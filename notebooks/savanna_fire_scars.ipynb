{
 "cells": [
  {
   "cell_type": "markdown",
   "id": "31591365-bfb0-4aaa-86aa-14079320fcb4",
   "metadata": {},
   "source": [
    "# Savanna project - fire scar data exploration"
   ]
  },
  {
   "cell_type": "code",
   "execution_count": 184,
   "id": "7a66af0e-5838-47bc-b691-ba3e6072f32c",
   "metadata": {},
   "outputs": [],
   "source": [
    "%matplotlib inline\n",
    "import matplotlib.pyplot as plt\n",
    "\n",
    "import pathlib\n",
    "import collections\n",
    "\n",
    "import numpy as np\n",
    "\n",
    "import fiona\n",
    "import shapely\n",
    "import odc.geo.geom\n",
    "import odc.geo.xr\n",
    "import rioxarray"
   ]
  },
  {
   "cell_type": "code",
   "execution_count": 169,
   "id": "68b4b5df-8346-4fa5-b376-9a000c4aa27c",
   "metadata": {},
   "outputs": [],
   "source": [
    "fire_scar_dir = pathlib.Path(\"~/data/raw/fire_scar/Fire_scars_1989_2023\").expanduser()\n",
    "fire_scar_path = fire_scar_dir / \"JW_aust2022faa.shp\""
   ]
  },
  {
   "cell_type": "code",
   "execution_count": 171,
   "id": "a5e1634d-798b-4175-9b19-14b09659f0c1",
   "metadata": {},
   "outputs": [],
   "source": [
    "handle = fiona.open(fire_scar_path)"
   ]
  },
  {
   "cell_type": "code",
   "execution_count": 178,
   "id": "22f7b7cd-b336-4e12-a808-f34272dbc548",
   "metadata": {},
   "outputs": [],
   "source": [
    "def geom_from_shape(entry, crs):\n",
    "    \n",
    "    if entry.geometry.type == \"Polygon\":\n",
    "        (outer, *inners) = entry.geometry.coordinates\n",
    "        geom = odc.geo.geom.polygon(\n",
    "            outer,\n",
    "            crs,\n",
    "            *inners,\n",
    "        )\n",
    "\n",
    "    elif entry.geometry.type == \"MultiPolygon\":\n",
    "        geom = odc.geo.geom.multipolygon(\n",
    "            coords=entry.geometry.coordinates,\n",
    "            crs=crs,\n",
    "        )\n",
    "    else:\n",
    "        raise ValueError()\n",
    "\n",
    "    return geom"
   ]
  },
  {
   "cell_type": "code",
   "execution_count": 179,
   "id": "7915ec7f-ac1d-4799-b21c-f77fb1db3378",
   "metadata": {
    "scrolled": true
   },
   "outputs": [],
   "source": [
    "polygons = [\n",
    "    geom_from_shape(\n",
    "        entry=entry,\n",
    "        crs=handle.crs,\n",
    "    )\n",
    "    for entry in handle\n",
    "]"
   ]
  },
  {
   "cell_type": "code",
   "execution_count": 183,
   "id": "28d5f7d5-99cc-408f-bd61-b5ee139cc815",
   "metadata": {},
   "outputs": [
    {
     "data": {
      "text/plain": [
       "29180"
      ]
     },
     "execution_count": 183,
     "metadata": {},
     "output_type": "execute_result"
    }
   ],
   "source": [
    "len(polygons)"
   ]
  },
  {
   "cell_type": "code",
   "execution_count": 186,
   "id": "09631642-1844-4ec1-a9ee-437369b239e6",
   "metadata": {},
   "outputs": [
    {
     "data": {
      "text/plain": [
       "<function odc.geo._xr_interop.rasterize(poly: odc.geo.geom.Geometry, how: Union[float, int, odc.geo.types.Resolution, odc.geo.geobox.GeoBox], *, value_inside: bool = True, all_touched: bool = False) -> xarray.core.dataarray.DataArray>"
      ]
     },
     "execution_count": 186,
     "metadata": {},
     "output_type": "execute_result"
    }
   ],
   "source": [
    "odc.geo.xr.rasterize"
   ]
  },
  {
   "cell_type": "code",
   "execution_count": null,
   "id": "c7004e68-7c00-4946-bcf6-9ac6d991791c",
   "metadata": {},
   "outputs": [],
   "source": []
  }
 ],
 "metadata": {
  "kernelspec": {
   "display_name": "Python 3 (ipykernel)",
   "language": "python",
   "name": "python3"
  },
  "language_info": {
   "codemirror_mode": {
    "name": "ipython",
    "version": 3
   },
   "file_extension": ".py",
   "mimetype": "text/x-python",
   "name": "python",
   "nbconvert_exporter": "python",
   "pygments_lexer": "ipython3",
   "version": "3.9.17"
  }
 },
 "nbformat": 4,
 "nbformat_minor": 5
}
